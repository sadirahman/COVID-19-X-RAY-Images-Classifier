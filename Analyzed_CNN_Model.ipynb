{
 "cells": [
  {
   "cell_type": "code",
   "execution_count": 1,
   "metadata": {},
   "outputs": [
    {
     "name": "stdout",
     "output_type": "stream",
     "text": [
      "Train on 1493 samples, validate on 641 samples\n",
      "Epoch 1/5\n",
      "  32/1493 [..............................] - ETA: 2:24 - loss: 0.7041 - accuracy: 0.3750WARNING:tensorflow:Method (on_train_batch_end) is slow compared to the batch update (0.132050). Check your callbacks.\n",
      "1493/1493 [==============================] - 8s 5ms/sample - loss: 0.2893 - accuracy: 0.8667 - val_loss: 0.0918 - val_accuracy: 0.9657\n",
      "Epoch 2/5\n",
      "1493/1493 [==============================] - 3s 2ms/sample - loss: 0.0919 - accuracy: 0.9638 - val_loss: 0.0593 - val_accuracy: 0.9782\n",
      "Epoch 3/5\n",
      "1493/1493 [==============================] - 3s 2ms/sample - loss: 0.0720 - accuracy: 0.9685 - val_loss: 0.0671 - val_accuracy: 0.9750\n",
      "Epoch 4/5\n",
      "1493/1493 [==============================] - 3s 2ms/sample - loss: 0.0597 - accuracy: 0.9779 - val_loss: 0.0815 - val_accuracy: 0.9735\n",
      "Epoch 5/5\n",
      "1493/1493 [==============================] - 3s 2ms/sample - loss: 0.0475 - accuracy: 0.9859 - val_loss: 0.0718 - val_accuracy: 0.9719\n"
     ]
    }
   ],
   "source": [
    "import tensorflow as tf\n",
    "import numpy as np\n",
    "from tensorflow.keras.datasets import cifar10\n",
    "from tensorflow.keras.preprocessing.image import ImageDataGenerator\n",
    "from tensorflow.keras.models import Sequential\n",
    "from tensorflow.keras.layers import Dense, Dropout, Activation, Flatten\n",
    "from tensorflow.keras.layers import Conv2D, MaxPooling2D\n",
    "# more info on callbakcs: https://keras.io/callbacks/ model saver is cool too.\n",
    "from tensorflow.keras.callbacks import TensorBoard\n",
    "import pickle\n",
    "import time\n",
    "import os\n",
    "\n",
    "NAME = \"COVID-19_Xray-CNN-{}\".format(int(time.time()))\n",
    "PATH = os.path.join('logs', NAME)\n",
    "tensorboard = TensorBoard(log_dir=PATH)\n",
    "\n",
    "pickle_in = open(\"X.pickle\",\"rb\")\n",
    "X = pickle.load(pickle_in)\n",
    "\n",
    "pickle_in = open(\"y.pickle\",\"rb\")\n",
    "y = pickle.load(pickle_in)\n",
    "\n",
    "X = X/255.0\n",
    "\n",
    "model = Sequential()\n",
    "\n",
    "model.add(Conv2D(16, (3, 3), input_shape=X.shape[1:]))\n",
    "model.add(Activation('relu'))\n",
    "model.add(MaxPooling2D(pool_size=(2, 2)))\n",
    "\n",
    "model.add(Conv2D(16, (3, 3)))\n",
    "model.add(Activation('relu'))\n",
    "model.add(MaxPooling2D(pool_size=(2, 2)))\n",
    "\n",
    "model.add(Flatten())  # this converts our 3D feature maps to 1D feature vectors\n",
    "model.add(Dense(64))\n",
    "\n",
    "model.add(Dense(1))\n",
    "model.add(Activation('sigmoid'))\n",
    "\n",
    "\n",
    "model.compile(loss='binary_crossentropy',\n",
    "              optimizer='adam',\n",
    "              metrics=['accuracy'],\n",
    "              )\n",
    "IMG_SIZE = 50\n",
    "\n",
    "X = np.array(X).reshape(-1, IMG_SIZE, IMG_SIZE, 1)\n",
    "\n",
    "y = np.array(y)\n",
    "\n",
    "history= model.fit(X, y, batch_size=32, epochs=5, validation_split=0.30, callbacks=[tensorboard])"
   ]
  },
  {
   "cell_type": "code",
   "execution_count": null,
   "metadata": {},
   "outputs": [],
   "source": []
  }
 ],
 "metadata": {
  "kernelspec": {
   "display_name": "Python 3",
   "language": "python",
   "name": "python3"
  },
  "language_info": {
   "codemirror_mode": {
    "name": "ipython",
    "version": 3
   },
   "file_extension": ".py",
   "mimetype": "text/x-python",
   "name": "python",
   "nbconvert_exporter": "python",
   "pygments_lexer": "ipython3",
   "version": "3.7.4"
  }
 },
 "nbformat": 4,
 "nbformat_minor": 2
}
